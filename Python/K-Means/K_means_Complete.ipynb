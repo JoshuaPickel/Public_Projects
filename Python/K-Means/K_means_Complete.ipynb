{
 "cells": [
  {
   "cell_type": "markdown",
   "metadata": {},
   "source": [
    "# K-Means Clustering Algorithm In Python  \n",
    "\n",
    "\n",
    "## K-Means Algorithm Background  \n",
    "\n",
    "The K-Means algorithm seeks to separate objects into groups (or clusters), such that the objects within any given cluster are more similar to each other than they are to other objects in other groups. For example, we could cluster students by their course grades, NFL players by their performance, flowers by their petal and stem length, or as we will explore in this notebook, types of cancer based on the profiles of genes that are active.  \n",
    "\n",
    "This algorithm studies cluster analysis of input data defined by an array of numerical attributes (values). So a students' course grades array would have the grades for each course they have taken. An NFL players' array would contain thier performance rating for each game played. For flowers, thier array would contain petal and stem lengths. And for the example dataset that we'll actually use here, each patient will be characterized by an array of gene expression levels, indicating for each gene a kind of relative abundance for that patient.  \n",
    "\n",
    "The goal is to take in a set of samples and find common ground, specifically 'k' of them. (Hence 'K' Means).\n",
    "\n",
    "\n",
    "## How The K-Means Algorithm Is Implemented  \n",
    "\n",
    "The First step to implement the K-Means algorithm is to create a list of clusters, and go through the samples in the data set, assigning each sample to a random cluster. Once all samples have been assigned to a cluster, we need to represent each cluster by a centroid.  \n",
    "\n",
    "The following is how to calculate each cluster's centroid: the _jth_ value in the centroid is the mean (average) of the _jth_ of all the members in the cluster.   \n",
    "\n",
    "Once we have found each cluster's centroid, we now need to find each sample's nearest centroid. This will move some (or all) of the centroids members to another cluster that better represents the member. For the program in this notebook, this will be done using **Euclidean Distance:**  \n",
    "\n",
    "$$ d(p,q)=d(q,p)=\\sqrt{(q_1-p_1)^{2}+(q_2-p_2)^{2}+...+(q_n-p_n)^{2}}=\\sqrt{\\sum_{i=1}^{n}(q_i-p_i)^{2}}$$  \n",
    "\n",
    "Where $p$ and $q$ are vectors of equal length.  \n",
    "\n",
    "What the **Euclidean Distance** computes is the sqaure root of sum of the difference between the centroid and the members _jth_ value squared. This returns a single value, which is the \"distance\" from the member to a given centroid. This calculation is used to determine which cluster is \"closest\" to the given member.  \n",
    "\n",
    "The K-Means algorithm will go through each cluster's members, calculate the member's distance form each cluster centroid, and determine if the member needs to be moved. Once all members that required movement are moved, the algortihm recalculates each clusters centroid, and repeats the process of calculating distance and moving members untill no members are moved. This process is complete when no cluster members are moved, or when a preset number of maximum iterations is reached.\n",
    "\n",
    "Once the movement process is complete, the program will use a heatmap to display the results, so one can see a visual of the reclustered data to determine if there are _k_ distinct groups within the data.  \n",
    "\n",
    "## The K-Means Algorithm Code  \n",
    "\n",
    "Now that I have given some background information about how the K-Means algorithm is used and how it is implemented, lets take a look at some working K-Means code.  \n",
    "\n",
    "Since this algorthim is coded using classes that rely on eachother, I will break the program down method by method, then provide some output for each method, and at the end will show the end result of the program being ran with cancer.csv.  \n",
    "\n",
    "## Cluster Class Used In K-Means"
   ]
  },
  {
   "cell_type": "markdown",
   "metadata": {},
   "source": [
    "```python\n",
    "import numpy as np\n",
    "import pandas as pd\n",
    "from matplotlib import pyplot as plt\n",
    "from math import*\n",
    "import random\n",
    "\n",
    "class clusters(K_means):\n",
    "    def __init__(self):\n",
    "        self.members = []                                                      # Create empty member array \n",
    "        self.centroid = None                                                   # Create centroid attribute\n",
    "        self.distance = None \n",
    "```"
   ]
  },
  {
   "cell_type": "markdown",
   "metadata": {},
   "source": [
    "The first thing you will notice is we need to import numpy, pandas, matplotlib, math, and random modules in order for this code to work.  \n",
    "\n",
    "You will also notice that the cluster class is a child of the K_means class, which we will build after this class is complete.\n",
    "\n",
    "The first portion of code, `__init__(self)`, is the constructor for the cluster class. It creates attribute `self.members,` an array to hold the memebers within the cluster. It also creates attribue `self.centroid,` which will be the centroid for the cluster.  \n",
    "\n",
    "Now that we have the constructor for the cluster class, we will add a method to add samples to the `self.members` array."
   ]
  },
  {
   "cell_type": "markdown",
   "metadata": {},
   "source": [
    "```python \n",
    "    def append_data(self,sample):                    \n",
    "        self.sample = sample                          # Attribute sample                                                \n",
    "        self.members.append(self.sample)              # Append sample to members array\n",
    "```"
   ]
  },
  {
   "cell_type": "markdown",
   "metadata": {},
   "source": [
    "The `append_data(self,sample)` method takes a sample as an arguement, and will append it to `self.members` array, using the built in `append` method.  \n",
    "\n",
    "The last thing we need to add to the cluster class is a method to remove data from the `self.members` array."
   ]
  },
  {
   "cell_type": "markdown",
   "metadata": {},
   "source": [
    "```python  \n",
    "    def remove_data(self,index):\n",
    "        self.index = index                              # Attribute index\n",
    "        self.members.remove(self.index)                 # Remove index from member array  \n",
    "```"
   ]
  },
  {
   "cell_type": "markdown",
   "metadata": {},
   "source": [
    "The `remove_data` method takes an index as an argument, which is the index within the `self.members` list to be removed, using the built in `remove` method.\n",
    "\n"
   ]
  },
  {
   "cell_type": "markdown",
   "metadata": {},
   "source": [
    "## The K_means Class"
   ]
  },
  {
   "cell_type": "markdown",
   "metadata": {},
   "source": [
    "```python\n",
    "class K_means:\n",
    "    def __init__(self,k, dataSet):\n",
    "        self.k = k               \n",
    "        self.cluster_set = []                     # create an empty clutser array     \n",
    "        self.dataSet = pd.read_csv(dataSet, index_col = 0, header = None)\n",
    "        for i in range(k):                        # Loop k number of times\n",
    "            cluster = clusters()                  # make a cluster object\n",
    "            self.cluster_set.append(cluster)      # Append cluster object to cluster_set array\n",
    "```"
   ]
  },
  {
   "cell_type": "markdown",
   "metadata": {},
   "source": [
    "The first portion of code in the `K_means` class is the `__init__(self,k,dataSet)` which is the constructor for the `K_means` class. The constructor takes on arugments of  `k`, and `dataSet`. `self.k` is the number of clusters to create, and `self.dataSet` is the data set in which we are going to perform the K_Means algorithm on. At this point, the `K_means` class has attributes `self.k`, the number of clusters, `self.cluster_set`,an array of each cluster and its members,`self,dataSet`, the dataSet put into a pandas DataFrame. The constructor then loops _k_ number of times and creates an empty cluster member list and appends it to the `self.cluster_set`. This creates our empty clusters.  \n",
    "\n",
    "Now we need to add a method to put samples into each cluster."
   ]
  },
  {
   "cell_type": "markdown",
   "metadata": {},
   "source": [
    "```python    \n",
    "    def random_data(self):\n",
    "        dataSet1 = self.dataSet                            # Alias DataSet   \n",
    "        for i in range(self.k):                            # Loop k number of times\n",
    "            data_subset = dataSet1.sample()                # Get a sample from the data set alias\n",
    "            index = list(data_subset.index)                # Put sample in a list\n",
    "            df_subset1 = list(dataSet1.loc[index[0]])      # Get the numerical value of the sample\n",
    "            self.cluster_set[i].append_data(df_subset1)    # append it to cluster \"i\" (ensures no empty cluster)\n",
    "            dataSet1 = dataSet1.drop(data_subset.index)    # remove sample from data set alias so no repeats happen     \n",
    "        for i in range(len(dataSet1)):                                 # Now go through remaming samples\n",
    "            e = random.randint(0,self.k-1)                             # Pick a random cluster \n",
    "            self.cluster_set[e].append_data(list(dataSet1.iloc[i]))    # Put sample data into appropriate cluster\n",
    "```"
   ]
  },
  {
   "cell_type": "markdown",
   "metadata": {},
   "source": [
    "The method `random_data` method creats an alias dataFrame called `dataSet1`, and loops _k_ number of times, adding a random sample to each of the clusters, to ensure that there is no cluster that will be empty. The method deletes these samples, to ensure that no samples are added twice. Then the method goes through the rest of the samples iteratively, and adds each sample to a randomly selected cluster. The method completes ones all samples have been assigned to a cluster.  \n",
    "\n",
    "Now that we have members in our clusters, we now need to add a method that will calculate each cluster's centroid."
   ]
  },
  {
   "cell_type": "markdown",
   "metadata": {},
   "source": [
    "```python   \n",
    "    def calculate_centroid(self):\n",
    "        '''This function calculates the centroid for each cluster\n",
    "        Returns: centroid list'''\n",
    "        self.centroids = []                                     # Create empty centroid list \n",
    "        for i in self.cluster_set:                              # Loop through each cluster\n",
    "            centroid = pd.DataFrame(i.members).mean()           # Centroid attributes are the average of each cluster's\n",
    "                                                                # Attributes\n",
    "            i.centroid = centroid                               # Declare centroid attribute for each cluster\n",
    "            self.centroids.append(i.centroid)                   # Append centroid to centroid list  \n",
    "        return self.centroids  \n",
    "```"
   ]
  },
  {
   "cell_type": "markdown",
   "metadata": {},
   "source": [
    "The method `calculate_centroid` creates an attribute `self.centroid`, an array of centroids. The method loops through each cluster set, and averages the features of the cluster, and adds the result to the centroid attribute created in our cluster class. Now each cluster has a `centroid` attribute we can call on.  \n",
    "\n",
    "Now that we have calculated the centroids for each cluster, we need to add a method that calculates the Euclidean distance for each sample. "
   ]
  },
  {
   "cell_type": "markdown",
   "metadata": {},
   "source": [
    "```python   \n",
    "    def distances(self,cluster):\n",
    "        self.distance = []                                    # Array of distances\n",
    "        for i in range(len(self.cluster_set)):                # Loop through each cluster \n",
    "            difference =(self.centroids[i] - cluster)**2      # Calculate the distance from centroid to cluster samples \n",
    "            Euclidean = sqrt(sum(difference))                 # take swaure root of difference \n",
    "            self.distance.append(Euclidean)                   # Append the difference to difference list\n",
    "        return self.distance\n",
    "```"
   ]
  },
  {
   "cell_type": "markdown",
   "metadata": {},
   "source": [
    "The `distances(self,cluster)` method takes on a `cluster` as an argument, and creates an attribute `self.distance`, an array of a samples' distances from each centroid. The method loops through each cluster, and calculates the samples distance from the clusters centroid. The method then appends the each distance to the `self.distance` array.  \n",
    "\n",
    "Now that we have a distance method, we need to add a method to re-cluster our samples."
   ]
  },
  {
   "cell_type": "markdown",
   "metadata": {},
   "source": [
    "```python    \n",
    "    def shift(self):\n",
    "        after = []                                                             # Array to compare before/after shift \n",
    "        Flag = True\n",
    "        while(Flag == True):\n",
    "            before = self.get_members()                                        # Create an object of before members\n",
    "            for i in range(len(self.cluster_set)):                             # Loop through each cluster \n",
    "                for e in self.cluster_set[i].members:                          # Loop through each cluster's members \n",
    "                    distance_array = self.distances(e)                         # Create an array of w/ distance function\n",
    "                    closest_index = distance_array.index(min(distance_array))  # Calculate which cluster is the closest\n",
    "                    if closest_index != i:                                     # Move the sample if it needs to be moved \n",
    "                        self.cluster_set[closest_index].append_data(e)         # Move the sample to the new cluster   \n",
    "                        self.cluster_set[i].remove_data(e)                     # Remove sample from current cluster \n",
    "            self.calculate_centroid()                                          # Recalculate centroid\n",
    "            after = self.get_members()                                         # After array for current cluster members \n",
    "            if after == before:                                                # Check to see if clusters changed \n",
    "                Flag = False\n",
    "            else:\n",
    "                Flag = True\n",
    "```"
   ]
  },
  {
   "cell_type": "markdown",
   "metadata": {},
   "source": [
    "The `shift(slef)` method creates an empty array called `after` to house the samples after they have been moved. The method declares a boolean flag of `False`, and creates an `before` array, housing each clusters' members before any member reassignment happens. The method then loops through each cluster, calculates each clusters' members' distance from each centroid, and determines if the member needs to be moved. If the member needs to move, it moves the member, and removes the member from its current cluster. Once all members that need to be moved across all clusters have been moved, the method recalculates each clusters' new centroid. The method then checks to determine if any cluster members have moved. If there is a cluster member that has moved, the method will continue to reassign members until no members have been moved, in which it will stop."
   ]
  },
  {
   "cell_type": "markdown",
   "metadata": {},
   "source": [
    "Now that we have a method that will reassign clusters until no cluster member has moved, we will add a method grab all of the members before and after they have been moved."
   ]
  },
  {
   "cell_type": "markdown",
   "metadata": {},
   "source": [
    "```python\n",
    "def get_members(self):\n",
    "        final_membs = []\n",
    "        for i in self.cluster_set:                                             # Go through cluster set\n",
    "            final_membs.extend(i.members)                                      # Put all the members in an array\n",
    "        return final_membs\n",
    "```"
   ]
  },
  {
   "cell_type": "markdown",
   "metadata": {},
   "source": [
    "The `get_members(self)` method will get all of the members in our clusters and put them in a list to compare them to the pre and post shift members. This helps us determine if the shifting has stopped.\n",
    "\n",
    "Now that we have a method to help us determine if shifting has stopped, we need a method to plot our final result."
   ]
  },
  {
   "cell_type": "markdown",
   "metadata": {},
   "source": [
    "```python    \n",
    "    def plot(self):\n",
    "        data_array = []                            # Creats an empty array to hold the data to be plotted in a heatmap\n",
    "        for i in self.cluster_set:                 # Loop through each cluster\n",
    "            data_array.extend(i.members)           # Extend each cluster's members' to the data array   \n",
    "        graph = plt.subplot()                      # Create a graph \n",
    "        plt.pcolor(data_array, cmap = 'seismic')   # Plot the data array, with color 'seismic' \n",
    "        graph.axes.get_xaxis().set_visible(False)  # Format the x axis\n",
    "        graph.axes.get_yaxis().set_visible(False)  # Format y axis\n",
    "        plt.colorbar()\n",
    "        length = 0\n",
    "        for i in self.cluster_set:\n",
    "            length += len(i.members)\n",
    "            if length != len(self.dataSet):\n",
    "                plt.axhline(y = length, c = 'black', lw = 3.0)   # Put lines on heatmap\n",
    "        plt.show()\n",
    "```"
   ]
  },
  {
   "cell_type": "markdown",
   "metadata": {},
   "source": [
    "The `plot(self)` method creates an `data_array` to house each clusters' member for plotting. The method loops through each cluster, and extends the clusters' members to the `data_array`. The method then formats the plot, and calculates where to put lines on the heatmap. The method does this by declaring variable `length` as 0, then stepping through each cluster, determining how many members are in the cluster, and adding the length of the cluster to the length variable. It does this until the length varibale is equal to the length of the `dataSet`.  \n",
    "\n",
    "Now that we have the a method to plot our results, I added a function to gain insight on our ouput. This function is not necessary for the K_Means algorithm, but I found it useful to add insight to the cancer dataset we an analyzing.  \n",
    "\n"
   ]
  },
  {
   "cell_type": "markdown",
   "metadata": {},
   "source": [
    " ```python   \n",
    "    def insight(self):\n",
    "        insights = []                                        # Empty array\n",
    "        count = 0\n",
    "        insight_frame = self.dataSet                         # Create dataFrame for original data set\n",
    "        insight_frame = insight_frame.sort_index()           # sort the insight frame by col index (recur and non recur)\n",
    "        patient_type = insight_frame.index                   # Create list of sorted patient type\n",
    "        for i in range(len(patient_type)):                   # loop through patient list\n",
    "            if 'non' in patient_type[i]:                     # Count number of non recurring patients\n",
    "                count += 1\n",
    "        nons = pd.DataFrame(insight_frame.iloc[0:count])     # Create data frame of non recurring samples  \n",
    "        has = pd.DataFrame(insight_frame.iloc[count:])          # Create data frame of recurring samples   \n",
    "        for i in self.cluster_set:                              # Loop through the clusters, and their samples \n",
    "            count_non = 0\n",
    "            count_recur = 0\n",
    "            for e in range(len(i.members)):   \n",
    "                cluster_df = pd.DataFrame(i.members)            # Create a dataframe of the cluster samples\n",
    "                mem_list = cluster_df.iloc[e].tolist()          # create list of the members\n",
    "                num_nons = nons.eq(mem_list,axis = 1).all(1)    # Find in nons\n",
    "                num_recur = has.eq(mem_list,axis = 1).all(1)    # Find in recurs\n",
    "                count_non += sum(num_nons)                      # Add the nons\n",
    "                count_recur += sum(num_recur)                   # Add the recurs\n",
    "                counts = (count_non,count_recur)                # Put totals in tuple\n",
    "            insights.append(counts)                             # Append tuple to insight array\n",
    "        return insights                                         # Return insight array \n",
    "```\n",
    "        "
   ]
  },
  {
   "cell_type": "markdown",
   "metadata": {},
   "source": [
    "The method `insight(self)` provides a way to look at each cluster and determine how many samples in that cluster have been labled as _non-recurring_ or _recurring._ The method creats an empty array, `insights`, to hold the data of non-recurring or recurring for each sample. It then creates a pandas data frame of the original dataSet, sorts it by index, and creates a list `patient_type` that is the list of non-recurring and recurring entries for the data column index. The method then goes through the `patient_type` list and counts the number of non-reucrring entries in the origial dataset, and returns a data frame with all of the non-recurring samples. It also creates a data frame of all the recurring samples. The method then goes through each cluster and its members, and counts the number of recurring and non-recurring members by comparing each cluster member to the recurring and non-recurring data frame. It then returns a nested list containing each clusters number of recurring and non-recurring members. This is used to provide insight on the sample data. "
   ]
  },
  {
   "cell_type": "markdown",
   "metadata": {},
   "source": [
    "Now that each class and the methods for each class have been defined, we will put the code together.\n",
    "\n",
    "**Note: Read the code outputs below before running the code yourself.**"
   ]
  },
  {
   "cell_type": "code",
   "execution_count": 14,
   "metadata": {},
   "outputs": [],
   "source": [
    "import numpy as np\n",
    "import pandas as pd\n",
    "from matplotlib import pyplot as plt\n",
    "from math import*\n",
    "import random\n",
    "\n",
    "class K_means:\n",
    "    '''A class used to create a k means object, with methods to run the k-means\n",
    "        algorithm.\n",
    "        def __init__(self,k): k-means constructor that produces k clusters\n",
    "        def random_data(self,dataSet): method that creates random clusters\n",
    "        def calculate_centroid(self): method to produce centroid for each cluster\n",
    "        def distances(self,cluster): calculates each smaples distance from eahc cluster\n",
    "        def shift(self): reassigns cluster members to closest cluster by centroid distance\n",
    "        def get_members(self): gathers each clusters members\n",
    "        '''\n",
    "    def __init__(self,k, dataSet):\n",
    "        ''' connstructor that creates k number of clusters\n",
    "        Parameter k: number of clusters to produce'''\n",
    "        self.k = k               \n",
    "        self.cluster_set = []                     # create an empty clutser array\n",
    "        self.df1 = None       \n",
    "        self.dataSet = pd.read_csv(dataSet, index_col = 0, header = None)\n",
    "        for i in range(k):                        # Loop k number of times\n",
    "            cluster = clusters()                  # make a cluster object\n",
    "            self.cluster_set.append(cluster)      # Append cluster object to cluster_set array    \n",
    "            \n",
    "            \n",
    "    def random_data(self):\n",
    "        '''Method that assigns each sample to a random cluster '''\n",
    "        dataSet1 = self.dataSet                                                 # Alias DataSet   \n",
    "        for i in range(self.k):                                                 # Loop k number of times\n",
    "            data_subset = dataSet1.sample()                                     # Get a sample from the data set alias\n",
    "            index = list(data_subset.index)                                     # Put sample in a list\n",
    "            df_subset1 = list(dataSet1.loc[index[0]])                           # Get the numerical value of the sample\n",
    "            self.cluster_set[i].append_data(df_subset1)                         # append it to cluster \"i\" (this ensure each cluster will not be empty)\n",
    "            dataSet1 = dataSet1.drop(data_subset.index)                         # remove sample from data set alias so no repeats happen    \n",
    "            \n",
    "        for i in range(len(dataSet1)):                                          # Now go through remaming samples\n",
    "            e = random.randint(0,self.k-1)                                      # Pick a random cluster \n",
    "            self.cluster_set[e].append_data(list(dataSet1.iloc[i]))             # Put sample data into appropriate cluster \n",
    "           \n",
    "        \n",
    "    def calculate_centroid(self):\n",
    "        '''This function calculates the centroid for each cluster\n",
    "        Returns: centroid list'''\n",
    "        self.centroids = []                                                    # Create empty centroid list \n",
    "        for i in self.cluster_set:                                             # Loop through each cluster\n",
    "            centroid = pd.DataFrame(i.members).mean()                          # Centroid's attribute value is the average of each cluster's attributes\n",
    "            i.centroid = centroid                                              # Declare centroid attribute for each cluster\n",
    "            self.centroids.append(i.centroid)                                  # Append centroid to centroid list  \n",
    "                                                      # Return the centroid\n",
    "        \n",
    "    \n",
    "    def distances(self,cluster):\n",
    "        ''' This function calculates each samples distance from the given cluster\n",
    "        Parameter cluster: The cluster to calculate the distance from '''\n",
    "        self.distance = []                                                     # Array of distances\n",
    "        for i in range(len(self.cluster_set)):                                 # Loop through each cluster \n",
    "            difference =(self.centroids[i] - cluster)**2                       # Calculate the distance from centroid to cluster samples \n",
    "            Euclidean = sqrt(sum(difference))                                  # take swaure root of difference \n",
    "            self.distance.append(Euclidean)                                    # Append the difference to difference list\n",
    "        return self.distance                                                   # Return the distance array \n",
    "    \n",
    "    \n",
    "    \n",
    "    def shift(self):\n",
    "        '''This function will calculate the distance of each sample to each cluster's\n",
    "        centroid,and move the sample into the cluster in which it is closest to'''\n",
    "        after = []                                                             # Array to compare before shift and after shit \n",
    "        Flag = True\n",
    "        while(Flag == True):\n",
    "            before = self.get_members()                                        # Create an object in which to campe before/after shift members\n",
    "            for i in range(len(self.cluster_set)):                             # Loop through each cluster \n",
    "                for e in self.cluster_set[i].members:                          # Loop through each cluster's members \n",
    "                    distance_array = self.distances(e)                         # Create an array of distances through distance function\n",
    "                    closest_index = distance_array.index(min(distance_array))  # Calculate which cluster is the closest\n",
    "                    if closest_index != i:                                     # Move the sample if it needs to be moved \n",
    "                        self.cluster_set[closest_index].append_data(e)         # move the sample to the appropriate cluster   \n",
    "                        self.cluster_set[i].remove_data(e)                     # remove sample from current cluster, after it has been moved \n",
    "            self.calculate_centroid()                                          # After all necessary moves, recalculate centroids based on new cluster sets\n",
    "            after = self.get_members()                                         # After array now hold the current cluster members \n",
    "            if after == before:                                                # Check to see if clusters changed \n",
    "                Flag = False\n",
    "            else:\n",
    "                Flag = True\n",
    "                \n",
    "    def get_members(self):\n",
    "        '''This function appends gets each clusters members\n",
    "        Returns: array of members for each cluster'''\n",
    "        final_membs = []\n",
    "        for i in self.cluster_set:                                             # Go through cluster set\n",
    "            final_membs.extend(i.members)                                      # Put all the members in an array\n",
    "        return final_membs\n",
    "            \n",
    "        \n",
    "    def plot(self):\n",
    "        '''This method will plot the end K-means data after shfting is complete\n",
    "        in the for of a heatmap.'''\n",
    "        data_array = []                                                        # Creats an empty array to hold the data to be plotted in a heatmap\n",
    "        for i in self.cluster_set:                                             # Loop through each cluster\n",
    "            data_array.extend(i.members)                                       # Extend each cluster's members' to the data array   \n",
    "        graph = plt.subplot()                                                  # Create a graph \n",
    "        plt.pcolor(data_array, cmap = 'seismic')                               # Plot the data array, with color 'seismic' \n",
    "        graph.axes.get_xaxis().set_visible(False)                              # Format the x axis\n",
    "        graph.axes.get_yaxis().set_visible(False)                              # Format y axis\n",
    "        plt.colorbar()\n",
    "        length = 0\n",
    "        for i in self.cluster_set:\n",
    "            length += len(i.members)\n",
    "            if length != len(self.dataSet):\n",
    "                plt.axhline(y = length, c = 'forestgreen', lw = 3.0)                 # Put lines on the heatmap\n",
    "        plt.show()\n",
    "    \n",
    "    def insight(self):\n",
    "        '''This function determines how many nonrecurring and recurring samples\n",
    "        are in each cluster after re assignment convergence\n",
    "        Returns: a touple for each cluster, representing number of non recurring\n",
    "        samples for index 0, and recurring in index 1'''\n",
    "        insights = []                                                            # Empty array\n",
    "        count = 0\n",
    "        insight_frame = self.dataSet                                             # Create dataFrame for original data set\n",
    "        insight_frame = insight_frame.sort_index()                               # sort the insight frame by col index (sorts by recur and non recur)\n",
    "        patient_type = insight_frame.index                                       # Create list of sorted patient type\n",
    "        for i in range(len(patient_type)):                                       # loop through patient list\n",
    "            if 'non' in patient_type[i]:                                         # Count number of non recurring patients\n",
    "                count += 1\n",
    "        nons = pd.DataFrame(insight_frame.iloc[0:count])                         # Create data frame of non recurring samples  \n",
    "        has = pd.DataFrame(insight_frame.iloc[count:])                           # Create data frame of recurring samples   \n",
    "        for i in self.cluster_set:                                               # Loop through the clusters, and their samples \n",
    "            count_non = 0\n",
    "            count_recur = 0\n",
    "            for e in range(len(i.members)):   \n",
    "                cluster_df = pd.DataFrame(i.members)                            # Create a dataframe of the cluster samples\n",
    "                mem_list = cluster_df.iloc[e].tolist()                          # create list of the members\n",
    "                num_nons = nons.eq(mem_list,axis = 1).all(1)                    # Find in nons\n",
    "                num_recur = has.eq(mem_list,axis = 1).all(1)                    # Find in recurs\n",
    "                count_non += sum(num_nons)                                      # Add the nons\n",
    "                count_recur += sum(num_recur)                                   # Add the recurs\n",
    "                counts = (count_non,count_recur)                                # Put totals in tuple\n",
    "            insights.append(counts)                                             # Append tuple to insight array\n",
    "        return insights                                                         # Return insight array \n",
    "        \n",
    "        \n",
    "class clusters(K_means):\n",
    "    ''' A class that cretes clusters to be stored in K-means members cluster array\n",
    "    This class is a child of the K-means class\n",
    "    def __init__(self): creats an empty member array, and gives each cluster a centroid attribute\n",
    "    def append_data__(self,sample): method to append data to the member array\n",
    "    def remove_data(self,sample): method to remove data from the member array'''\n",
    "    def __init__(self):\n",
    "        ''' Constructor for the clusters class'''\n",
    "        self.members = []                                                      # Create empty member array \n",
    "        self.centroid = None                                                   # Create centroid attribute\n",
    "        self.distance = None \n",
    "        \n",
    "    def append_data(self,sample):\n",
    "        '''This method allows one to append data to the member array\n",
    "        Parameter sample: the data to append to member array'''\n",
    "        self.sample = sample\n",
    "        self.members.append(self.sample)\n",
    "        \n",
    "    def remove_data(self,index):\n",
    "        '''This method allows one to remove data from the member array \n",
    "        Parameter index: the index in which to remove from the member array'''\n",
    "        self.index = index \n",
    "        self.members.remove(self.index)"
   ]
  },
  {
   "cell_type": "markdown",
   "metadata": {},
   "source": [
    "### Running The Code  \n",
    "\n",
    "Now That we have put the code together, we should run it!  \n",
    "\n",
    "\n",
    "We will begin by using a small data set `simple.csv` and see how the program performs."
   ]
  },
  {
   "cell_type": "code",
   "execution_count": 15,
   "metadata": {},
   "outputs": [],
   "source": [
    "test_run = K_means(3, 'simple.csv')"
   ]
  },
  {
   "cell_type": "markdown",
   "metadata": {},
   "source": [
    "The output is an K_means object:"
   ]
  },
  {
   "cell_type": "code",
   "execution_count": 16,
   "metadata": {},
   "outputs": [
    {
     "data": {
      "text/plain": [
       "<__main__.K_means at 0xe13cf70>"
      ]
     },
     "execution_count": 16,
     "metadata": {},
     "output_type": "execute_result"
    }
   ],
   "source": [
    "test_run"
   ]
  },
  {
   "cell_type": "markdown",
   "metadata": {},
   "source": [
    "Now we will create the clusters by calling `test_run.random_data()`:"
   ]
  },
  {
   "cell_type": "code",
   "execution_count": 17,
   "metadata": {},
   "outputs": [],
   "source": [
    "test_run.random_data()"
   ]
  },
  {
   "cell_type": "markdown",
   "metadata": {},
   "source": [
    "There should be 3 clusters now. I will check this by calling `test_run.cluster_set`:"
   ]
  },
  {
   "cell_type": "code",
   "execution_count": 18,
   "metadata": {},
   "outputs": [
    {
     "data": {
      "text/plain": [
       "[<__main__.clusters at 0xe13cef0>,\n",
       " <__main__.clusters at 0xe13ceb0>,\n",
       " <__main__.clusters at 0xe13c710>]"
      ]
     },
     "execution_count": 18,
     "metadata": {},
     "output_type": "execute_result"
    }
   ],
   "source": [
    "test_run.cluster_set"
   ]
  },
  {
   "cell_type": "markdown",
   "metadata": {},
   "source": [
    "We can also see what members each cluster has by calling `test_run.cluster_set[i].members`"
   ]
  },
  {
   "cell_type": "code",
   "execution_count": 19,
   "metadata": {},
   "outputs": [
    {
     "data": {
      "text/plain": [
       "[[0.0, 0.1, 0.2, 0.0, 0.4, 0.5, 0.6, 0.7, 0.8, 0.9],\n",
       " [0.5, 0.0, 0.5, 0.5, 0.5, 0.5, 0.5, 0.5, 0.5, 0.5]]"
      ]
     },
     "execution_count": 19,
     "metadata": {},
     "output_type": "execute_result"
    }
   ],
   "source": [
    "test_run.cluster_set[0].members"
   ]
  },
  {
   "cell_type": "code",
   "execution_count": 20,
   "metadata": {},
   "outputs": [
    {
     "data": {
      "text/plain": [
       "[[0.4, 0.4, 0.4, 0.4, 0.4, 0.4, 0.4, 0.4, 0.4, 0.4]]"
      ]
     },
     "execution_count": 20,
     "metadata": {},
     "output_type": "execute_result"
    }
   ],
   "source": [
    "test_run.cluster_set[1].members"
   ]
  },
  {
   "cell_type": "code",
   "execution_count": 21,
   "metadata": {},
   "outputs": [
    {
     "data": {
      "text/plain": [
       "[[0.9, 0.8, 0.7, 0.6, 0.5, 0.4, 0.3, 0.2, 0.1, 0.0],\n",
       " [1.0, 0.9, 0.8, 0.7, 0.6, 0.5, 0.4, 0.3, 0.0, 0.1],\n",
       " [0.1, 0.2, 0.3, 0.4, 0.5, 0.6, 0.7, 0.8, 0.9, 1.0]]"
      ]
     },
     "execution_count": 21,
     "metadata": {},
     "output_type": "execute_result"
    }
   ],
   "source": [
    "test_run.cluster_set[2].members"
   ]
  },
  {
   "cell_type": "markdown",
   "metadata": {},
   "source": [
    "Now we will calculate the centroids by calling `test_run.calculate_centroid()`."
   ]
  },
  {
   "cell_type": "code",
   "execution_count": 22,
   "metadata": {},
   "outputs": [],
   "source": [
    "test_run.calculate_centroid()"
   ]
  },
  {
   "cell_type": "markdown",
   "metadata": {},
   "source": [
    "We can now check to make sure we have centroids by calling `test_run.centroids'."
   ]
  },
  {
   "cell_type": "code",
   "execution_count": 23,
   "metadata": {
    "scrolled": true
   },
   "outputs": [
    {
     "data": {
      "text/plain": [
       "[0    0.25\n",
       " 1    0.05\n",
       " 2    0.35\n",
       " 3    0.25\n",
       " 4    0.45\n",
       " 5    0.50\n",
       " 6    0.55\n",
       " 7    0.60\n",
       " 8    0.65\n",
       " 9    0.70\n",
       " dtype: float64, 0    0.4\n",
       " 1    0.4\n",
       " 2    0.4\n",
       " 3    0.4\n",
       " 4    0.4\n",
       " 5    0.4\n",
       " 6    0.4\n",
       " 7    0.4\n",
       " 8    0.4\n",
       " 9    0.4\n",
       " dtype: float64, 0    0.666667\n",
       " 1    0.633333\n",
       " 2    0.600000\n",
       " 3    0.566667\n",
       " 4    0.533333\n",
       " 5    0.500000\n",
       " 6    0.466667\n",
       " 7    0.433333\n",
       " 8    0.333333\n",
       " 9    0.366667\n",
       " dtype: float64]"
      ]
     },
     "execution_count": 23,
     "metadata": {},
     "output_type": "execute_result"
    }
   ],
   "source": [
    "test_run.centroids"
   ]
  },
  {
   "cell_type": "markdown",
   "metadata": {},
   "source": [
    "Now that we have centroids, we will re-cluster the data by calling `test_run.shift()`:"
   ]
  },
  {
   "cell_type": "code",
   "execution_count": 24,
   "metadata": {},
   "outputs": [],
   "source": [
    "test_run.shift()"
   ]
  },
  {
   "cell_type": "markdown",
   "metadata": {},
   "source": [
    "Now that the algorithm is done running, we can plot the output buy calling `test_run.plot()`:"
   ]
  },
  {
   "cell_type": "code",
   "execution_count": 25,
   "metadata": {},
   "outputs": [
    {
     "data": {
      "image/png": "[encoded data removed]",
      "text/plain": [
       "<Figure size 432x288 with 2 Axes>"
      ]
     },
     "metadata": {
      "needs_background": "light"
     },
     "output_type": "display_data"
    }
   ],
   "source": [
    "test_run.plot()"
   ]
  },
  {
   "attachments": {
    "image.png": {
     "image/png": "[encoded data removed]"
    }
   },
   "cell_type": "markdown",
   "metadata": {},
   "source": [
    "**Note: This heatmap will produce slighty different results form run to run. Run the code multiple times to determine if there is a similar pattern. The discussion was formed from the following heatmap.**\n",
    "\n",
    "![image.png](attachment:image.png)\n",
    "\n",
    "As we can see, there are 3 clusters (seperated by green line), and each cluster seems to have a distinct pattern. It looks like the algorithm correctly ran, so lets test it on the bigger data set, `cancer.csv`."
   ]
  },
  {
   "cell_type": "code",
   "execution_count": 26,
   "metadata": {},
   "outputs": [
    {
     "data": {
      "image/png": "[encoded data removed]",
      "text/plain": [
       "<Figure size 432x288 with 2 Axes>"
      ]
     },
     "metadata": {
      "needs_background": "light"
     },
     "output_type": "display_data"
    },
    {
     "data": {
      "text/plain": [
       "[(33, 5), (11, 29)]"
      ]
     },
     "execution_count": 26,
     "metadata": {},
     "output_type": "execute_result"
    }
   ],
   "source": [
    "cancer_run = K_means(2,'cancer.csv')\n",
    "cancer_run.random_data()\n",
    "cancer_run.calculate_centroid()\n",
    "cancer_run.shift()\n",
    "cancer_run.plot()\n",
    "cancer_run.insight()"
   ]
  },
  {
   "attachments": {
    "image.png": {
     "image/png": "[encoded data removed]"
    }
   },
   "cell_type": "markdown",
   "metadata": {},
   "source": [
    "## Conclusion Of Clustering Cancer.csv  \n",
    "\n",
    "**Note: This conclusion was based on the following cluster heatmap. The description may not match your running of the code as the output of the algorithm will differ from run to run.**\n",
    "\n",
    "![image.png](attachment:image.png) <center> **Insight output: [(33, 5), (11, 29)]**</center>\n",
    "\n",
    "We can see after running the bigger data set through the K_means algorithm, that there are two distinct groups of patients. Furthermore, with the output of the `insight` method, we can determine that the first cluster (bottom on the heatmap), has more non-recurring cases of cancer, and the opposite is true for the other cluster. With this information, we can conclude that those who have non recurring cancer have more of of roughly the first half of the genes (the 'red' genes) and less of the second half ('blue' genes). The opposite is true for the second cluster. "
   ]
  },
  {
   "cell_type": "markdown",
   "metadata": {},
   "source": [
    "## Conclusion  \n",
    "\n",
    "There are strengths and weaknesses of the K-Means clustering algorithm:  \n",
    "\n",
    "Weaknesses:  \n",
    "\n",
    "* The number of clusters, k, needs to be determined beforehand.\n",
    "* The output may not always be the same.\n",
    "* The algorithm is easily affected by outliers.  \n",
    "\n",
    "Strengths:\n",
    "* K-Means is typically faster than hierarchical clustering, if we keep k small. \n",
    "* Relatively easy to implement.\n",
    "* Will generally produce tighter clusters than hierarchical clustering. \n"
   ]
  }
 ],
 "metadata": {
  "kernelspec": {
   "display_name": "Python 3",
   "language": "python",
   "name": "python3"
  },
  "language_info": {
   "codemirror_mode": {
    "name": "ipython",
    "version": 3
   },
   "file_extension": ".py",
   "mimetype": "text/x-python",
   "name": "python",
   "nbconvert_exporter": "python",
   "pygments_lexer": "ipython3",
   "version": "3.7.3"
  }
 },
 "nbformat": 4,
 "nbformat_minor": 2
}
