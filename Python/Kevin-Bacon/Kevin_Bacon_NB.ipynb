{
 "cells": [
  {
   "cell_type": "markdown",
   "metadata": {},
   "source": [
    "**Author:** Josh Pickel  \n",
    "**Date:** 11/23/19  \n",
    "**Assignment:** Programming Assignment 6  \n",
    "**Course:** CPTS 215, Fall 2019  \n",
    "**Description:** This program reads files containing actor I.D's and names, movie I.D's and names, and movie I.D's to actor I.D's and maps each actor I.D. to thier name, each movie I.D. to thier name, and then maps each actor to what movie they appeared in. Then the program builds a graph connecting all actors together via the movie they appeared in. That graph is then ran though a BFS algorithm, building a shortest path graph to Kevin Bacon."
   ]
  },
  {
   "cell_type": "markdown",
   "metadata": {},
   "source": [
    "## The Process Of Making The Kevin Bacon Game  \n",
    "\n",
    "### Reading in the files  and mapping I.D.'s to names\n",
    "The first step in order to make the Kevin Bacon game is to map the movie names to the actors that appeared in that movie. I used dictionaries using three seperate functions to achieve this. The fist function mapped the acotr's I.D.'s to the actor's names. The second function mapped the movie's I.D.'s to the movie's names. The final function mapped movie names to all of the actors that appeared in that movie. The outputs are demonstrated below with the smaller actor and movie files.  \n",
    "\n",
    "#### Mapping Actor I.D. to Actor Name:\n"
   ]
  },
  {
   "cell_type": "code",
   "execution_count": 1,
   "metadata": {
    "scrolled": true
   },
   "outputs": [
    {
     "data": {
      "text/plain": [
       "{'1': 'Kevin Bacon',\n",
       " '100': 'actor1',\n",
       " '200': 'actor2',\n",
       " '300': 'actor3',\n",
       " '400': 'actor4',\n",
       " '500': 'actor5',\n",
       " '600': 'actor6'}"
      ]
     },
     "execution_count": 1,
     "metadata": {},
     "output_type": "execute_result"
    }
   ],
   "source": [
    "from Kevin_Bacon import actor_name\n",
    "\n",
    "actors = actor_name('actorsTest.txt')\n",
    "actors"
   ]
  },
  {
   "cell_type": "markdown",
   "metadata": {},
   "source": [
    "#### Mapping Movie I.D. to Movie Name"
   ]
  },
  {
   "cell_type": "code",
   "execution_count": 2,
   "metadata": {
    "scrolled": true
   },
   "outputs": [
    {
     "data": {
      "text/plain": [
       "{'10': 'movie1',\n",
       " '20': 'movie2',\n",
       " '30': 'movie3',\n",
       " '40': 'movie4',\n",
       " '50': 'movie5'}"
      ]
     },
     "execution_count": 2,
     "metadata": {},
     "output_type": "execute_result"
    }
   ],
   "source": [
    "from Kevin_Bacon import movie_names\n",
    "\n",
    "movies = movie_names('moviesTest.txt')\n",
    "movies"
   ]
  },
  {
   "cell_type": "markdown",
   "metadata": {},
   "source": [
    "#### Mapping Movie Names to All Actors in The Movie"
   ]
  },
  {
   "cell_type": "code",
   "execution_count": 3,
   "metadata": {
    "scrolled": true
   },
   "outputs": [
    {
     "data": {
      "text/plain": [
       "{'movie1': ['Kevin Bacon', 'actor1', 'actor2'],\n",
       " 'movie2': ['actor1', 'actor3'],\n",
       " 'movie3': ['actor3', 'actor2'],\n",
       " 'movie4': ['actor3', 'actor4'],\n",
       " 'movie5': ['actor5', 'actor6']}"
      ]
     },
     "execution_count": 3,
     "metadata": {},
     "output_type": "execute_result"
    }
   ],
   "source": [
    "from Kevin_Bacon import movie_actors\n",
    "\n",
    "movie_to_actors = movie_actors('movie-actorsTest.txt',actors,movies)\n",
    "movie_to_actors"
   ]
  },
  {
   "cell_type": "markdown",
   "metadata": {},
   "source": [
    "### Using The File Data  \n",
    "Now that the file data has been put in a format I can work with, I then made a function to make all possible ege combinations to build my graph. This was achieved through two functions, one that built the pair combinations, and the other that built the edges by calling on the pair making function. The output is demonstrated below using the smaller data set.\n",
    "\n"
   ]
  },
  {
   "cell_type": "code",
   "execution_count": 4,
   "metadata": {
    "scrolled": true
   },
   "outputs": [
    {
     "data": {
      "text/plain": [
       "[('Kevin Bacon', 'actor1', 'movie1'),\n",
       " ('Kevin Bacon', 'actor2', 'movie1'),\n",
       " ('actor1', 'actor2', 'movie1'),\n",
       " ('actor1', 'actor3', 'movie2'),\n",
       " ('actor3', 'actor2', 'movie3'),\n",
       " ('actor3', 'actor4', 'movie4'),\n",
       " ('actor5', 'actor6', 'movie5')]"
      ]
     },
     "execution_count": 4,
     "metadata": {},
     "output_type": "execute_result"
    }
   ],
   "source": [
    "from Kevin_Bacon import make_edges\n",
    "from Kevin_Bacon import pair_maker\n",
    "\n",
    "edges = make_edges(movie_to_actors)\n",
    "edges"
   ]
  },
  {
   "cell_type": "markdown",
   "metadata": {},
   "source": [
    "### Building The Graph\n",
    "Since all of the edge combinations have been made with the data, it's time to build the graph! I did this though a function that adds all of the above edges to a graph, and returns the graph object."
   ]
  },
  {
   "cell_type": "code",
   "execution_count": 5,
   "metadata": {
    "scrolled": true
   },
   "outputs": [
    {
     "data": {
      "text/plain": [
       "<Kevin_Bacon.Graph at 0x28dfc01ada0>"
      ]
     },
     "execution_count": 5,
     "metadata": {},
     "output_type": "execute_result"
    }
   ],
   "source": [
    "from Kevin_Bacon import graph_builder\n",
    "\n",
    "g = graph_builder(edges)\n",
    "g"
   ]
  },
  {
   "cell_type": "markdown",
   "metadata": {},
   "source": [
    "### Building The Shortest Path Graph  \n",
    "\n",
    "With the graph already built, it is time to make a shorest path graph through a breadth-first search algorithm that will be used to in the game. \n"
   ]
  },
  {
   "cell_type": "code",
   "execution_count": 6,
   "metadata": {
    "scrolled": true
   },
   "outputs": [],
   "source": [
    "from Kevin_Bacon import bfs\n",
    "\n",
    "t = bfs(g,g.get_vertex('Kevin Bacon'))\n"
   ]
  },
  {
   "cell_type": "markdown",
   "metadata": {},
   "source": [
    "### Searching the BFS\n",
    "\n",
    "With the BFS built, I then made a function to search the BFS graph to print the shortest path from the actor the user provides to Kevin Bacon, printing the results along the way. I also created a function to find statistics on the graph, and I stored all actor's Bacon numbers in a dictionary in this function. To have the Bacon number printed before the path listing, I leveraged the insight function to find the actor's Bacon number before printing the path. This was done in the main function.   \n",
    "\n",
    "**Note: For viewing purposes, click on the below cell and go to 'Cell' > 'All Ouptput' > 'Toggle Scroll' at the top of the page.**"
   ]
  },
  {
   "cell_type": "code",
   "execution_count": 7,
   "metadata": {
    "scrolled": false
   },
   "outputs": [
    {
     "name": "stdout",
     "output_type": "stream",
     "text": [
      "actor3 Appeared in movie2, with actor1\n",
      "actor1 Appeared in movie1, with Kevin Bacon\n"
     ]
    },
    {
     "data": {
      "image/png": "[encoded data removed]",
      "text/plain": [
       "<Figure size 792x648 with 1 Axes>"
      ]
     },
     "metadata": {},
     "output_type": "display_data"
    }
   ],
   "source": [
    "from Kevin_Bacon import find_path\n",
    "\n",
    "path = find_path('actor3',t)\n"
   ]
  },
  {
   "cell_type": "markdown",
   "metadata": {},
   "source": [
    "### Getting Insight\n",
    "\n",
    "I will show the insight I got from my insight function on the graph."
   ]
  },
  {
   "cell_type": "code",
   "execution_count": 8,
   "metadata": {
    "scrolled": true
   },
   "outputs": [
    {
     "name": "stdout",
     "output_type": "stream",
     "text": [
      "Here are some interesting statistics about the Kevin Bacon Graph: \n",
      "An actor with the highest Bacon number is actor4 with a Bacon number of: 3\n",
      "There are 2 actors who have a Bacon number of 1!\n"
     ]
    }
   ],
   "source": [
    "from Kevin_Bacon import insight \n",
    "Stats = insight(actors,t)\n",
    "print(\"Here are some interesting statistics about the Kevin Bacon Graph: \")\n",
    "print(\"An actor with the highest Bacon number is %s with a Bacon number of: %i\" %(Stats[0],Stats[1]))\n",
    "print(\"There are %i actors who have a Bacon number of 1!\" %(Stats[2]))"
   ]
  },
  {
   "cell_type": "markdown",
   "metadata": {},
   "source": [
    "## Now Let's Play The Game With the Big Data Set!  \n",
    "\n",
    "**Note: For viewing purposes, click on the below cell and go to 'Cell' > 'All Ouptput' > 'Toggle Scroll' at the top of the page.**"
   ]
  },
  {
   "cell_type": "code",
   "execution_count": null,
   "metadata": {
    "scrolled": false
   },
   "outputs": [
    {
     "name": "stdout",
     "output_type": "stream",
     "text": [
      "Here are some interesting statistics about the Kevin Bacon Graph: \n",
      "An actor with the highest Bacon number is Richard Arlen with a Bacon number of: 8\n",
      "There are 80 actors who have a Bacon number of 1!\n",
      "\n",
      "\n",
      "When you would like to quit, please enter 'Q' or 'q' in to prompt box\n",
      "You can type an actor's name in upper or lowercase, or a combination of the two.\n",
      "Ex: 'Tom cruise', 'Tom Cruise' , 'TOm CruIse' \n",
      " \n"
     ]
    }
   ],
   "source": [
    "from Kevin_Bacon import*\n",
    "main()"
   ]
  },
  {
   "cell_type": "code",
   "execution_count": null,
   "metadata": {
    "scrolled": true
   },
   "outputs": [],
   "source": []
  }
 ],
 "metadata": {
  "kernelspec": {
   "display_name": "Python 3",
   "language": "python",
   "name": "python3"
  },
  "language_info": {
   "codemirror_mode": {
    "name": "ipython",
    "version": 3
   },
   "file_extension": ".py",
   "mimetype": "text/x-python",
   "name": "python",
   "nbconvert_exporter": "python",
   "pygments_lexer": "ipython3",
   "version": "3.7.3"
  }
 },
 "nbformat": 4,
 "nbformat_minor": 2
}
